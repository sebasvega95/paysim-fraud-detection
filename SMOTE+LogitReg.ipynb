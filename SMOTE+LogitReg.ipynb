{
 "cells": [
  {
   "cell_type": "code",
   "execution_count": 1,
   "metadata": {
    "collapsed": true,
    "run_control": {
     "frozen": false,
     "read_only": false
    }
   },
   "outputs": [],
   "source": [
    "from datetime import timedelta\n",
    "import numpy as np\n",
    "from time import time\n",
    "import sys"
   ]
  },
  {
   "cell_type": "code",
   "execution_count": 2,
   "metadata": {
    "run_control": {
     "frozen": false,
     "read_only": false
    }
   },
   "outputs": [
    {
     "name": "stdout",
     "output_type": "stream",
     "text": [
      "Data loading done in 0:00:17.216446\n"
     ]
    }
   ],
   "source": [
    "from lib.data import load_data\n",
    "\n",
    "start = time()\n",
    "X, y = load_data('data.csv')\n",
    "end = time()\n",
    "print 'Data loading done in', timedelta(seconds=end - start)"
   ]
  },
  {
   "cell_type": "code",
   "execution_count": 3,
   "metadata": {
    "run_control": {
     "frozen": false,
     "read_only": false
    }
   },
   "outputs": [
    {
     "name": "stdout",
     "output_type": "stream",
     "text": [
      "Data reduction done in 0:00:00.532774\n"
     ]
    }
   ],
   "source": [
    "data_size = 80000\n",
    "start = time()\n",
    "X_normal = X[y == 0]\n",
    "X_fraud = X[y == 1]\n",
    "y_normal = y[y == 0]\n",
    "y_fraud = y[y == 1]\n",
    "idx = np.random.randint(y_normal.size, size=data_size)\n",
    "X = np.concatenate((X_normal[idx], X_fraud), axis=0)\n",
    "y = np.concatenate((y_normal[idx], y_fraud), axis=0)\n",
    "end = time()\n",
    "print 'Data reduction done in', timedelta(seconds=end - start)"
   ]
  },
  {
   "cell_type": "code",
   "execution_count": 4,
   "metadata": {
    "run_control": {
     "frozen": false,
     "read_only": false
    }
   },
   "outputs": [
    {
     "name": "stdout",
     "output_type": "stream",
     "text": [
      "SMOTE done in 0:00:00.943017\n"
     ]
    }
   ],
   "source": [
    "from imblearn.over_sampling import SMOTE \n",
    "\n",
    "start = time()\n",
    "sm = SMOTE(random_state=0)\n",
    "X_sm, y_sm = sm.fit_sample(X, y)\n",
    "end = time()\n",
    "print 'SMOTE done in', timedelta(seconds=end - start)"
   ]
  },
  {
   "cell_type": "code",
   "execution_count": 5,
   "metadata": {
    "collapsed": true,
    "run_control": {
     "frozen": false,
     "read_only": false
    }
   },
   "outputs": [],
   "source": [
    "from sklearn.preprocessing import StandardScaler\n",
    "\n",
    "scaler = StandardScaler()\n",
    "X = scaler.fit_transform(X)"
   ]
  },
  {
   "cell_type": "code",
   "execution_count": 6,
   "metadata": {
    "run_control": {
     "frozen": false,
     "read_only": false
    }
   },
   "outputs": [
    {
     "name": "stdout",
     "output_type": "stream",
     "text": [
      "Data splitting done in 0:00:00.037307\n"
     ]
    }
   ],
   "source": [
    "from sklearn.model_selection import train_test_split\n",
    "\n",
    "start = time()\n",
    "X_temp, X_test, y_temp, y_test = train_test_split(X_sm, y_sm, test_size=0.1, random_state=0)\n",
    "X_train, X_cv, y_train, y_cv = train_test_split(X_temp, y_temp, test_size=0.12, random_state=0)\n",
    "end = time()\n",
    "print 'Data splitting done in', timedelta(seconds=end - start)"
   ]
  },
  {
   "cell_type": "code",
   "execution_count": 7,
   "metadata": {
    "run_control": {
     "frozen": false,
     "read_only": false
    }
   },
   "outputs": [
    {
     "name": "stdout",
     "output_type": "stream",
     "text": [
      "Learning curve done in 0:01:38.048432\n"
     ]
    }
   ],
   "source": [
    "from sklearn.linear_model import LogisticRegression\n",
    "from sklearn.model_selection import learning_curve\n",
    "\n",
    "start = time()\n",
    "C = 1000\n",
    "train_sizes = np.linspace(0.01, 1, 20)\n",
    "clf = LogisticRegression(C=C)\n",
    "train_sizes, train_scores, cv_scores = learning_curve(clf, X_temp, y_temp,\n",
    "                                                      scoring='accuracy',\n",
    "                                                      train_sizes=train_sizes, cv=10)\n",
    "end = time()\n",
    "print 'Learning curve done in', timedelta(seconds=end - start)"
   ]
  },
  {
   "cell_type": "code",
   "execution_count": null,
   "metadata": {
    "collapsed": true,
    "run_control": {
     "frozen": false,
     "read_only": false
    },
    "scrolled": false
   },
   "outputs": [],
   "source": [
    "import matplotlib\n",
    "import matplotlib.pyplot as plt\n",
    "matplotlib.rcParams['figure.figsize'] = [15.0, 10.0]\n",
    "\n",
    "train_scores_mean = np.mean(train_scores, axis=1)\n",
    "train_scores_std = np.std(train_scores, axis=1)\n",
    "cv_scores_mean = np.mean(cv_scores, axis=1)\n",
    "cv_scores_std = np.std(cv_scores, axis=1)\n",
    "\n",
    "plt.fill_between(train_sizes, train_scores_mean - train_scores_std, train_scores_mean + train_scores_std,\n",
    "                 alpha=0.1, color='r')\n",
    "plt.plot(train_sizes, train_scores_mean, ':or', label='Training score')\n",
    "plt.fill_between(train_sizes, cv_scores_mean - cv_scores_std, cv_scores_mean + cv_scores_std,\n",
    "                 alpha=0.1, color='g')\n",
    "plt.plot(train_sizes, cv_scores_mean, ':og', label='Cross-validation score')\n",
    "plt.xlabel('Number of training examples')\n",
    "plt.ylabel('Score')\n",
    "plt.legend()\n",
    "plt.show()"
   ]
  }
 ],
 "metadata": {
  "kernelspec": {
   "display_name": "Python 2",
   "language": "python",
   "name": "python2"
  },
  "language_info": {
   "codemirror_mode": {
    "name": "ipython",
    "version": 2
   },
   "file_extension": ".py",
   "mimetype": "text/x-python",
   "name": "python",
   "nbconvert_exporter": "python",
   "pygments_lexer": "ipython2",
   "version": "2.7.12"
  }
 },
 "nbformat": 4,
 "nbformat_minor": 2
}
