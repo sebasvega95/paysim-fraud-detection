{
 "cells": [
  {
   "cell_type": "code",
   "execution_count": null,
   "metadata": {
    "collapsed": true,
    "run_control": {
     "frozen": false,
     "read_only": false
    }
   },
   "outputs": [],
   "source": [
    "from __future__ import division\n",
    "from datetime import timedelta\n",
    "from imblearn.over_sampling import SMOTE \n",
    "import numpy as np\n",
    "import matplotlib.pyplot as plt\n",
    "from sklearn import metrics\n",
    "from sklearn.externals import joblib\n",
    "from sklearn.linear_model import LogisticRegression\n",
    "from sklearn.model_selection import train_test_split, learning_curve\n",
    "from sklearn.preprocessing import StandardScaler\n",
    "from time import time\n",
    "import sys\n",
    "\n",
    "from lib.data import load_data\n",
    "\n",
    "import matplotlib\n",
    "matplotlib.rcParams['figure.figsize'] = [15.0, 10.0]"
   ]
  },
  {
   "cell_type": "code",
   "execution_count": null,
   "metadata": {},
   "outputs": [],
   "source": [
    "start = time()\n",
    "X, y = load_data('data.csv')\n",
    "end = time()\n",
    "print 'Data loading done in', timedelta(seconds=end - start)"
   ]
  },
  {
   "cell_type": "code",
   "execution_count": null,
   "metadata": {},
   "outputs": [],
   "source": [
    "data_size = 80000\n",
    "start = time()\n",
    "X_normal = X[y == 0]\n",
    "X_fraud = X[y == 1]\n",
    "y_normal = y[y == 0]\n",
    "y_fraud = y[y == 1]\n",
    "idx = np.random.randint(y_normal.size, size=data_size)\n",
    "X = np.concatenate((X_normal[idx], X_fraud), axis=0)\n",
    "y = np.concatenate((y_normal[idx], y_fraud), axis=0)\n",
    "end = time()\n",
    "print 'Data reduction done in', timedelta(seconds=end - start)"
   ]
  },
  {
   "cell_type": "code",
   "execution_count": null,
   "metadata": {},
   "outputs": [],
   "source": [
    "start = time()\n",
    "sm = SMOTE(random_state=0)\n",
    "X_sm, y_sm = sm.fit_sample(X, y)\n",
    "end = time()\n",
    "print 'SMOTE done in', timedelta(seconds=end - start)"
   ]
  },
  {
   "cell_type": "code",
   "execution_count": null,
   "metadata": {
    "collapsed": true
   },
   "outputs": [],
   "source": [
    "scaler = StandardScaler()\n",
    "X = scaler.fit_transform(X)"
   ]
  },
  {
   "cell_type": "code",
   "execution_count": null,
   "metadata": {},
   "outputs": [],
   "source": [
    "start = time()\n",
    "X_temp, X_test, y_temp, y_test = train_test_split(X_sm, y_sm, test_size=0.1, random_state=0)\n",
    "X_train, X_cv, y_train, y_cv = train_test_split(X_temp, y_temp, test_size=0.12, random_state=0)\n",
    "end = time()\n",
    "print 'Data splitting done in', timedelta(seconds=end - start)"
   ]
  },
  {
   "cell_type": "code",
   "execution_count": null,
   "metadata": {},
   "outputs": [],
   "source": [
    "start = time()\n",
    "C = 1000\n",
    "train_sizes = np.linspace(0.01, 1, 20)\n",
    "clf = LogisticRegression(C=C)\n",
    "train_sizes, train_scores, cv_scores = learning_curve(clf, X_temp, y_temp,\n",
    "                                                      scoring='accuracy',\n",
    "                                                      train_sizes=train_sizes, cv=10)\n",
    "end = time()\n",
    "print 'Learning curve done in', timedelta(seconds=end - start)"
   ]
  },
  {
   "cell_type": "code",
   "execution_count": null,
   "metadata": {
    "scrolled": false
   },
   "outputs": [],
   "source": [
    "train_scores_mean = np.mean(train_scores, axis=1)\n",
    "train_scores_std = np.std(train_scores, axis=1)\n",
    "cv_scores_mean = np.mean(cv_scores, axis=1)\n",
    "cv_scores_std = np.std(cv_scores, axis=1)\n",
    "\n",
    "plt.fill_between(train_sizes, train_scores_mean - train_scores_std, train_scores_mean + train_scores_std,\n",
    "                 alpha=0.1, color='r')\n",
    "plt.plot(train_sizes, train_scores_mean, ':or', label='Training score')\n",
    "plt.fill_between(train_sizes, cv_scores_mean - cv_scores_std, cv_scores_mean + cv_scores_std,\n",
    "                 alpha=0.1, color='g')\n",
    "plt.plot(train_sizes, cv_scores_mean, ':og', label='Cross-validation score')\n",
    "plt.xlabel('Number of training examples')\n",
    "plt.ylabel('Score')\n",
    "plt.legend()\n",
    "plt.show()"
   ]
  }
 ],
 "metadata": {
  "kernelspec": {
   "display_name": "Python 2",
   "language": "python",
   "name": "python2"
  },
  "language_info": {
   "codemirror_mode": {
    "name": "ipython",
    "version": 2
   },
   "file_extension": ".py",
   "mimetype": "text/x-python",
   "name": "python",
   "nbconvert_exporter": "python",
   "pygments_lexer": "ipython2",
   "version": "2.7.12"
  }
 },
 "nbformat": 4,
 "nbformat_minor": 2
}
